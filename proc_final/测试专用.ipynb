{
 "cells": [
  {
   "cell_type": "code",
   "execution_count": 1,
   "metadata": {},
   "outputs": [],
   "source": [
    "import glob\n",
    "import numpy as np\n",
    "import matplotlib.pyplot as plt\n",
    "from skimage import io \n",
    "import os\n",
    "import pylab as pl\n",
    "import random\n",
    "import cv2\n",
    "import tensorflow as tf\n",
    "import json\n",
    "import anno_func \n",
    "\n",
    "%matplotlib inline\n"
   ]
  },
  {
   "cell_type": "code",
   "execution_count": 10,
   "metadata": {
    "scrolled": true
   },
   "outputs": [],
   "source": [
    "\n",
    "def get_img_and_imgNum(test_img_path):\n",
    "    '''获取文件夹中的图片和图片的数字'''\n",
    "    imgs_list=[]\n",
    "    labels_list=[]\n",
    "    for path in test_img_path[:10]:\n",
    "        try:\n",
    "            img=io.imread(path)\n",
    "            imgs_list.append(img)\n",
    "            num_labels=get_num(path)\n",
    "            labels_list.append(num_labels)\n",
    "            if len(imgs_list) % 100 == 0:\n",
    "                print(\"Processing{}/{}\".format(len(imgs_list),len(test_img_path)))\n",
    "        except(IOError,OSError):\n",
    "            print('missed:{}'.format(path))\n",
    "            pass\n",
    "    return imgs_list,labels_list\n",
    "\n",
    "def get_num(img_path):  \n",
    "    '''根据图片的名字截取后面的数字'''\n",
    "    return str(img_path.split('/')[-1].split('.')[0])\n",
    "\n",
    "def load_labels(labels):\n",
    "    '''根据图片名字的数字将交通标志的位置标到图片上'''\n",
    "    img_labels=[]\n",
    "    for i in range(len(labels)):\n",
    "        imgid= labels[i]\n",
    "        imgdata = anno_func.load_img(anns, datadir, imgid)\n",
    "        imgdata_draw = anno_func.draw_all(anns, datadir, imgid, imgdata)\n",
    "        img_labels.append(imgdata_draw)\n",
    "    return img_labels\n",
    "\n",
    "def get_mark_class(MARK_PATH=MARK_PATH):\n",
    "    '''获取label下的所有图片所对应的类别字典'''\n",
    "    mark_img_path=glob.glob(MARK_PATH+'/pad-all'+\"/*.png\")\n",
    "    count=1\n",
    "    class_dict=dict()\n",
    "    with open(MARK_PATH+'/genlist.txt') as mark_text:\n",
    "        line=mark_text.readline()\n",
    "        while line:\n",
    "            if count % 2 != 0:#奇数为图片位置，偶数为图片的类别\n",
    "                name=line.split('/')[-1].rstrip('\\n')\n",
    "            else:\n",
    "                value=line.rstrip('\\n')\n",
    "                class_dict[name]=value\n",
    "                name=[]\n",
    "                value=[]\n",
    "            line=mark_text.readline()\n",
    "            count+=1\n",
    "    return class_dict\n",
    "\n",
    "def get_label_path(lable_text,MARK_PATH=MARK_PATH):  \n",
    "    '''根据label的名称获取label的完整路径'''\n",
    "    print(lable_text)\n",
    "    if lable_class in targets:\n",
    "        print('在的')\n",
    "    lable_text=lable_text+'.png'\n",
    "    if mark_class[lable_text]:\n",
    "#     if lable_text in mark_class.keys():\n",
    "        mark_img_path=MARK_PATH+'/pad-all'+'/'+lable_text+'.png'\n",
    "        marked_class=mark_class[lable_text]\n",
    "    mark_img_path=MARK_PATH+'/pad-all'+'/*.png'\n",
    "    mark_img_path=glob.glob(mark_img_path)\n",
    "    marks=[ get_num(mark) for mark in mark_img_path]\n",
    "    if lable_text in marks:        \n",
    "        mark_img_path=MARK_PATH+'/pad-all'+'/'+lable_text+'.png'\n",
    "    else:\n",
    "        print(lable_text+'is not existed')\n",
    "    return mark_img_path,marked_class\n",
    "\n"
   ]
  },
  {
   "cell_type": "code",
   "execution_count": 12,
   "metadata": {},
   "outputs": [
    {
     "name": "stdout",
     "output_type": "stream",
     "text": [
      "3071\n"
     ]
    }
   ],
   "source": [
    "# 获取test下的所有图片路径\n",
    "test_img_path=glob.glob(IMG_PATH+\"/*.jpg\")\n",
    "# 随机打乱数据集\n",
    "np.random.shuffle(test_img_path)\n",
    "print(len(test_img_path))\n",
    "\n",
    "# 测试集的图片和图片的id\n",
    "# imgs,labels_id=get_img_and_imgNum(test_img_path)\n",
    "#读取mark的图片名称所对应的类别字典\n",
    "mark_class=get_mark_class()"
   ]
  },
  {
   "cell_type": "code",
   "execution_count": 8,
   "metadata": {
    "scrolled": true
   },
   "outputs": [
    {
     "name": "stdout",
     "output_type": "stream",
     "text": [
      "imgid 94833\n"
     ]
    },
    {
     "ename": "KeyError",
     "evalue": "94833",
     "output_type": "error",
     "traceback": [
      "\u001b[0;31m---------------------------------------------------------------------------\u001b[0m",
      "\u001b[0;31mKeyError\u001b[0m                                  Traceback (most recent call last)",
      "\u001b[0;32m<ipython-input-8-9abc59e720d6>\u001b[0m in \u001b[0;36m<module>\u001b[0;34m()\u001b[0m\n\u001b[1;32m      5\u001b[0m \u001b[0mprint\u001b[0m\u001b[0;34m(\u001b[0m\u001b[0;34m'imgid'\u001b[0m\u001b[0;34m,\u001b[0m\u001b[0mimgid\u001b[0m\u001b[0;34m)\u001b[0m\u001b[0;34m\u001b[0m\u001b[0m\n\u001b[1;32m      6\u001b[0m \u001b[0;31m#         load_img  anns 标注信息集, DATADIR 文件地址, imgid 图片id编号，返回归一化的bgr图片\u001b[0m\u001b[0;34m\u001b[0m\u001b[0;34m\u001b[0m\u001b[0m\n\u001b[0;32m----> 7\u001b[0;31m \u001b[0mimgdata\u001b[0m \u001b[0;34m=\u001b[0m \u001b[0manno_func\u001b[0m\u001b[0;34m.\u001b[0m\u001b[0mload_img\u001b[0m\u001b[0;34m(\u001b[0m\u001b[0manns\u001b[0m\u001b[0;34m,\u001b[0m \u001b[0mDATADIR\u001b[0m\u001b[0;34m,\u001b[0m \u001b[0mimgid\u001b[0m\u001b[0;34m)\u001b[0m\u001b[0;34m\u001b[0m\u001b[0m\n\u001b[0m\u001b[1;32m      8\u001b[0m \u001b[0;31m#        draw_all： anns 标注信息集, DATADIR 文件地址, imgid 图片id编号, imgdata 图片信息\u001b[0m\u001b[0;34m\u001b[0m\u001b[0;34m\u001b[0m\u001b[0m\n\u001b[1;32m      9\u001b[0m \u001b[0mimgdata_draw\u001b[0m\u001b[0;34m,\u001b[0m\u001b[0mmask_ellipse\u001b[0m\u001b[0;34m,\u001b[0m\u001b[0mimg\u001b[0m \u001b[0;34m=\u001b[0m \u001b[0manno_func\u001b[0m\u001b[0;34m.\u001b[0m\u001b[0mdraw_all\u001b[0m\u001b[0;34m(\u001b[0m\u001b[0manns\u001b[0m\u001b[0;34m,\u001b[0m \u001b[0mDATADIR\u001b[0m\u001b[0;34m,\u001b[0m \u001b[0mimgid\u001b[0m\u001b[0;34m,\u001b[0m \u001b[0mimgdata\u001b[0m\u001b[0;34m)\u001b[0m\u001b[0;34m\u001b[0m\u001b[0m\n",
      "\u001b[0;32m/mnt/Data/weiyumei/deeplearning/finalwork/finalwork/anno_func.py\u001b[0m in \u001b[0;36mload_img\u001b[0;34m(annos, datadir, imgid)\u001b[0m\n\u001b[1;32m     10\u001b[0m \u001b[0;34m\u001b[0m\u001b[0m\n\u001b[1;32m     11\u001b[0m \u001b[0;32mdef\u001b[0m \u001b[0mload_img\u001b[0m\u001b[0;34m(\u001b[0m\u001b[0mannos\u001b[0m\u001b[0;34m,\u001b[0m \u001b[0mdatadir\u001b[0m\u001b[0;34m,\u001b[0m \u001b[0mimgid\u001b[0m\u001b[0;34m)\u001b[0m\u001b[0;34m:\u001b[0m\u001b[0;34m\u001b[0m\u001b[0m\n\u001b[0;32m---> 12\u001b[0;31m     \u001b[0mimg\u001b[0m \u001b[0;34m=\u001b[0m \u001b[0mannos\u001b[0m\u001b[0;34m[\u001b[0m\u001b[0;34m\"imgs\"\u001b[0m\u001b[0;34m]\u001b[0m\u001b[0;34m[\u001b[0m\u001b[0mimgid\u001b[0m\u001b[0;34m]\u001b[0m\u001b[0;34m\u001b[0m\u001b[0m\n\u001b[0m\u001b[1;32m     13\u001b[0m     \u001b[0mimgpath\u001b[0m \u001b[0;34m=\u001b[0m \u001b[0mdatadir\u001b[0m\u001b[0;34m+\u001b[0m\u001b[0;34m'/'\u001b[0m\u001b[0;34m+\u001b[0m\u001b[0mimg\u001b[0m\u001b[0;34m[\u001b[0m\u001b[0;34m'path'\u001b[0m\u001b[0;34m]\u001b[0m\u001b[0;34m\u001b[0m\u001b[0m\n\u001b[1;32m     14\u001b[0m     \u001b[0mimgdata\u001b[0m \u001b[0;34m=\u001b[0m \u001b[0mpl\u001b[0m\u001b[0;34m.\u001b[0m\u001b[0mimread\u001b[0m\u001b[0;34m(\u001b[0m\u001b[0mimgpath\u001b[0m\u001b[0;34m)\u001b[0m\u001b[0;34m\u001b[0m\u001b[0m\n",
      "\u001b[0;31mKeyError\u001b[0m: 94833"
     ]
    }
   ],
   "source": [
    "from imp import reload\n",
    "reload(anno_func) \n",
    "# 读取一张图片\n",
    "imgid= 94833\n",
    "print('imgid',imgid)\n",
    "#         load_img  anns 标注信息集, DATADIR 文件地址, imgid 图片id编号，返回归一化的bgr图片\n",
    "imgdata = anno_func.load_img(anns, DATADIR, imgid)\n",
    "#        draw_all： anns 标注信息集, DATADIR 文件地址, imgid 图片id编号, imgdata 图片信息\n",
    "imgdata_draw,mask_ellipse,img = anno_func.draw_all(anns, DATADIR, imgid, imgdata)\n"
   ]
  },
  {
   "cell_type": "code",
   "execution_count": 14,
   "metadata": {},
   "outputs": [
    {
     "name": "stdout",
     "output_type": "stream",
     "text": [
      "target_classes 222 {'i1': (1, 1), 'i10': (2, 2), 'i11': (3, 3), 'i12': (4, 4), 'i13': (5, 5), 'i14': (6, 6), 'i15': (7, 7), 'i2': (8, 8), 'i3': (9, 9), 'i4': (10, 10), 'i5': (11, 11), 'il100': (12, 12), 'il110': (13, 13), 'il50': (14, 14), 'il60': (15, 15), 'il70': (16, 16), 'il80': (17, 17), 'il90': (18, 18), 'io': (19, 19), 'ip': (20, 20), 'p1': (21, 21), 'p10': (22, 22), 'p11': (23, 23), 'p12': (24, 24), 'p13': (25, 25), 'p14': (26, 26), 'p15': (27, 27), 'p16': (28, 28), 'p17': (29, 29), 'p18': (30, 30), 'p19': (31, 31), 'p2': (32, 32), 'p20': (33, 33), 'p21': (34, 34), 'p22': (35, 35), 'p23': (36, 36), 'p24': (37, 37), 'p25': (38, 38), 'p26': (39, 39), 'p27': (40, 40), 'p28': (41, 41), 'p3': (42, 42), 'p4': (43, 43), 'p5': (44, 44), 'p6': (45, 45), 'p7': (46, 46), 'p8': (47, 47), 'p9': (48, 48), 'pa10': (49, 49), 'pa12': (50, 50), 'pa13': (51, 51), 'pa14': (52, 52), 'pa8': (53, 53), 'pb': (54, 54), 'pc': (55, 55), 'pg': (56, 56), 'ph1.5': (57, 57), 'ph2': (58, 58), 'ph2.1': (59, 59), 'ph2.2': (60, 60), 'ph2.4': (61, 61), 'ph2.5': (62, 62), 'ph2.8': (63, 63), 'ph2.9': (64, 64), 'ph3': (65, 65), 'ph3.2': (66, 66), 'ph3.5': (67, 67), 'ph3.8': (68, 68), 'ph4': (69, 69), 'ph4.2': (70, 70), 'ph4.3': (71, 71), 'ph4.5': (72, 72), 'ph4.8': (73, 73), 'ph5': (74, 74), 'ph5.3': (75, 75), 'ph5.5': (76, 76), 'pl10': (77, 77), 'pl100': (78, 78), 'pl110': (79, 79), 'pl120': (80, 80), 'pl15': (81, 81), 'pl20': (82, 82), 'pl25': (83, 83), 'pl30': (84, 84), 'pl35': (85, 85), 'pl40': (86, 86), 'pl5': (87, 87), 'pl50': (88, 88), 'pl60': (89, 89), 'pl65': (90, 90), 'pl70': (91, 91), 'pl80': (92, 92), 'pl90': (93, 93), 'pm10': (94, 94), 'pm13': (95, 95), 'pm15': (96, 96), 'pm1.5': (97, 97), 'pm2': (98, 98), 'pm20': (99, 99), 'pm25': (100, 100), 'pm30': (101, 101), 'pm35': (102, 102), 'pm40': (103, 103), 'pm46': (104, 104), 'pm5': (105, 105), 'pm50': (106, 106), 'pm55': (107, 107), 'pm8': (108, 108), 'pn': (109, 109), 'pne': (110, 110), 'po': (111, 111), 'pr10': (112, 112), 'pr100': (113, 113), 'pr20': (114, 114), 'pr30': (115, 115), 'pr40': (116, 116), 'pr45': (117, 117), 'pr50': (118, 118), 'pr60': (119, 119), 'pr70': (120, 120), 'pr80': (121, 121), 'ps': (122, 122), 'pw2': (123, 123), 'pw2.5': (124, 124), 'pw3': (125, 125), 'pw3.2': (126, 126), 'pw3.5': (127, 127), 'pw4': (128, 128), 'pw4.2': (129, 129), 'pw4.5': (130, 130), 'w1': (131, 131), 'w10': (132, 132), 'w12': (133, 133), 'w13': (134, 134), 'w16': (135, 135), 'w18': (136, 136), 'w20': (137, 137), 'w21': (138, 138), 'w22': (139, 139), 'w24': (140, 140), 'w28': (141, 141), 'w3': (142, 142), 'w30': (143, 143), 'w31': (144, 144), 'w32': (145, 145), 'w34': (146, 146), 'w35': (147, 147), 'w37': (148, 148), 'w38': (149, 149), 'w41': (150, 150), 'w42': (151, 151), 'w43': (152, 152), 'w44': (153, 153), 'w45': (154, 154), 'w46': (155, 155), 'w47': (156, 156), 'w48': (157, 157), 'w49': (158, 158), 'w5': (159, 159), 'w50': (160, 160), 'w55': (161, 161), 'w56': (162, 162), 'w57': (163, 163), 'w58': (164, 164), 'w59': (165, 165), 'w60': (166, 166), 'w62': (167, 167), 'w63': (168, 168), 'w66': (169, 169), 'w8': (170, 170), 'wo': (171, 171), 'i6': (172, 172), 'i7': (173, 173), 'i8': (174, 174), 'i9': (175, 175), 'ilx': (176, 176), 'p29': (177, 177), 'w29': (178, 178), 'w33': (179, 179), 'w36': (180, 180), 'w39': (181, 181), 'w4': (182, 182), 'w40': (183, 183), 'w51': (184, 184), 'w52': (185, 185), 'w53': (186, 186), 'w54': (187, 187), 'w6': (188, 188), 'w61': (189, 189), 'w64': (190, 190), 'w65': (191, 191), 'w67': (192, 192), 'w7': (193, 193), 'w9': (194, 194), 'pax': (195, 195), 'pd': (196, 196), 'pe': (197, 197), 'phx': (198, 198), 'plx': (199, 199), 'pmx': (200, 200), 'pnl': (201, 201), 'prx': (202, 202), 'pwx': (203, 203), 'w11': (204, 204), 'w14': (205, 205), 'w15': (206, 206), 'w17': (207, 207), 'w19': (208, 208), 'w2': (209, 209), 'w23': (210, 210), 'w25': (211, 211), 'w26': (212, 212), 'w27': (213, 213), 'pl0': (214, 214), 'pl4': (215, 215), 'pl3': (216, 216), 'pm2.5': (217, 217), 'ph4.4': (218, 218), 'pn40': (219, 219), 'ph3.3': (220, 220), 'ph2.6': (221, 221), 'None': (0, 0)}\n"
     ]
    }
   ],
   "source": [
    "# 获取数据集\n",
    "# current=os.getcwd().split('finalwork')[0]\n",
    "current=os.getcwd()\n",
    "DATADIR = os.path.abspath(os.path.join(current,os.path.pardir,os.path.pardir,'dataset/data'))\n",
    "IMG_PATH=DATADIR+'/test'\n",
    "MARK_PATH=DATADIR+'/marks' \n",
    "# 位置标记文件\n",
    "filedir=DATADIR+'/annotations.json'\n",
    "# 每张图片名称所关联的id\n",
    "ids=open(DATADIR+'/test/ids.txt').read().splitlines()\n",
    "anns=json.loads(open(filedir).read())\n",
    "# print('anns',anns['types'])\n",
    "# 为类别生成数字编号\n",
    "targets=anns['types']\n",
    "target_classes=dict()\n",
    "for i,name in enumerate(targets):\n",
    "    target_classes[name]=(i+1,i+1)\n",
    "\n",
    "target_classes['None']=(0,0)\n",
    "print('target_classes',len(target_classes),target_classes)"
   ]
  },
  {
   "cell_type": "code",
   "execution_count": null,
   "metadata": {},
   "outputs": [],
   "source": []
  }
 ],
 "metadata": {
  "kernelspec": {
   "display_name": "Python 3",
   "language": "python",
   "name": "python3"
  },
  "language_info": {
   "codemirror_mode": {
    "name": "ipython",
    "version": 3
   },
   "file_extension": ".py",
   "mimetype": "text/x-python",
   "name": "python",
   "nbconvert_exporter": "python",
   "pygments_lexer": "ipython3",
   "version": "3.6.5"
  }
 },
 "nbformat": 4,
 "nbformat_minor": 2
}
